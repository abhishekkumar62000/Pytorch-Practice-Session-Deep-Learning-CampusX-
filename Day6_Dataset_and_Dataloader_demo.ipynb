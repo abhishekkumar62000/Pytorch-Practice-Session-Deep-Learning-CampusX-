{
  "nbformat": 4,
  "nbformat_minor": 0,
  "metadata": {
    "colab": {
      "provenance": []
    },
    "kernelspec": {
      "name": "python3",
      "display_name": "Python 3"
    },
    "language_info": {
      "name": "python"
    }
  },
  "cells": [
    {
      "cell_type": "code",
      "source": [
        "from sklearn.datasets import make_classification\n",
        "import torch"
      ],
      "metadata": {
        "id": "YEM-MJ5l8jSK"
      },
      "execution_count": 1,
      "outputs": []
    },
    {
      "cell_type": "code",
      "source": [
        "# Step 1:- Create a sysjthetic Classification dataset using sklearn\n",
        "\n",
        "X, y = make_classification(\n",
        "    n_samples=20,       # The Total Number of sample\n",
        "    n_features=2,      # The Total Number of Features\n",
        "    n_informative=2,   # The Total Number of Informative Features\n",
        "    n_redundant=0,     # The Total Number of Redundant Features\n",
        "    n_classes=2,       # The Total Number of Classes\n",
        "    random_state=42    # For Reproducibility\n",
        "\n",
        ")"
      ],
      "metadata": {
        "id": "PQUs5CXk88U4"
      },
      "execution_count": 3,
      "outputs": []
    },
    {
      "cell_type": "code",
      "source": [
        "X"
      ],
      "metadata": {
        "colab": {
          "base_uri": "https://localhost:8080/"
        },
        "id": "WywhcnAj3Yec",
        "outputId": "36a87f4e-d4cf-42d5-a41f-2bfc205a1716"
      },
      "execution_count": 4,
      "outputs": [
        {
          "output_type": "execute_result",
          "data": {
            "text/plain": [
              "array([[-0.28280607, -1.40876083],\n",
              "       [ 0.94702918,  0.55906844],\n",
              "       [ 1.15772163,  0.474995  ],\n",
              "       [ 1.99591479,  0.77282149],\n",
              "       [ 0.04049985,  1.39732687],\n",
              "       [ 1.47044441, -0.86055081],\n",
              "       [-0.70743459,  0.89217168],\n",
              "       [-1.45694256, -0.04564786],\n",
              "       [ 0.62203454,  2.36749526],\n",
              "       [-0.01544395,  1.09258513],\n",
              "       [ 1.61125245, -0.65678116],\n",
              "       [ 1.45454184,  0.91354664],\n",
              "       [-0.20714752,  1.33055499],\n",
              "       [ 1.9632335 , -0.7697201 ],\n",
              "       [-0.96400678, -0.82990054],\n",
              "       [ 2.07569216,  0.66009587],\n",
              "       [-0.65503537, -0.83585632],\n",
              "       [-1.42571554, -1.31373391],\n",
              "       [-0.87496777, -0.11350669],\n",
              "       [ 1.25579369, -0.37205015]])"
            ]
          },
          "metadata": {},
          "execution_count": 4
        }
      ]
    },
    {
      "cell_type": "code",
      "source": [
        "X.shape"
      ],
      "metadata": {
        "colab": {
          "base_uri": "https://localhost:8080/"
        },
        "id": "eBb4gaS_3cYe",
        "outputId": "d7802056-9df4-4dd0-f985-0c4649bed73d"
      },
      "execution_count": 5,
      "outputs": [
        {
          "output_type": "execute_result",
          "data": {
            "text/plain": [
              "(20, 2)"
            ]
          },
          "metadata": {},
          "execution_count": 5
        }
      ]
    },
    {
      "cell_type": "code",
      "source": [
        "y"
      ],
      "metadata": {
        "colab": {
          "base_uri": "https://localhost:8080/"
        },
        "id": "KAAejfi23fkA",
        "outputId": "08fe1339-5830-4be8-fc64-f8e65c59ef68"
      },
      "execution_count": 6,
      "outputs": [
        {
          "output_type": "execute_result",
          "data": {
            "text/plain": [
              "array([0, 0, 0, 1, 1, 0, 1, 1, 0, 1, 0, 1, 1, 0, 0, 1, 0, 0, 1, 0])"
            ]
          },
          "metadata": {},
          "execution_count": 6
        }
      ]
    },
    {
      "cell_type": "code",
      "source": [
        "y.shape"
      ],
      "metadata": {
        "colab": {
          "base_uri": "https://localhost:8080/"
        },
        "id": "tZI0UX7R3f4H",
        "outputId": "49ad245f-8c36-464c-e962-72c98ff7d4f6"
      },
      "execution_count": 7,
      "outputs": [
        {
          "output_type": "execute_result",
          "data": {
            "text/plain": [
              "(20,)"
            ]
          },
          "metadata": {},
          "execution_count": 7
        }
      ]
    },
    {
      "cell_type": "code",
      "source": [
        "# Convert The data to Pytorch tensor\n",
        "X = torch.tensor(X, dtype=torch.float32)\n",
        "y = torch.tensor(y, dtype=torch.long)"
      ],
      "metadata": {
        "id": "7hi6K2SF-roQ"
      },
      "execution_count": 8,
      "outputs": []
    },
    {
      "cell_type": "code",
      "source": [
        "X"
      ],
      "metadata": {
        "colab": {
          "base_uri": "https://localhost:8080/"
        },
        "id": "R8b5_oEF8ejn",
        "outputId": "f6c808b9-278b-4f84-837a-25dae57385cc"
      },
      "execution_count": 9,
      "outputs": [
        {
          "output_type": "execute_result",
          "data": {
            "text/plain": [
              "tensor([[-0.2828, -1.4088],\n",
              "        [ 0.9470,  0.5591],\n",
              "        [ 1.1577,  0.4750],\n",
              "        [ 1.9959,  0.7728],\n",
              "        [ 0.0405,  1.3973],\n",
              "        [ 1.4704, -0.8606],\n",
              "        [-0.7074,  0.8922],\n",
              "        [-1.4569, -0.0456],\n",
              "        [ 0.6220,  2.3675],\n",
              "        [-0.0154,  1.0926],\n",
              "        [ 1.6113, -0.6568],\n",
              "        [ 1.4545,  0.9135],\n",
              "        [-0.2071,  1.3306],\n",
              "        [ 1.9632, -0.7697],\n",
              "        [-0.9640, -0.8299],\n",
              "        [ 2.0757,  0.6601],\n",
              "        [-0.6550, -0.8359],\n",
              "        [-1.4257, -1.3137],\n",
              "        [-0.8750, -0.1135],\n",
              "        [ 1.2558, -0.3721]])"
            ]
          },
          "metadata": {},
          "execution_count": 9
        }
      ]
    },
    {
      "cell_type": "code",
      "source": [
        "y"
      ],
      "metadata": {
        "colab": {
          "base_uri": "https://localhost:8080/"
        },
        "id": "Pkxag9k-8gQh",
        "outputId": "400f1856-b15f-4377-98a1-fd6010630166"
      },
      "execution_count": 10,
      "outputs": [
        {
          "output_type": "execute_result",
          "data": {
            "text/plain": [
              "tensor([0, 0, 0, 1, 1, 0, 1, 1, 0, 1, 0, 1, 1, 0, 0, 1, 0, 0, 1, 0])"
            ]
          },
          "metadata": {},
          "execution_count": 10
        }
      ]
    },
    {
      "cell_type": "code",
      "source": [
        "from torch.utils.data import Dataset, DataLoader"
      ],
      "metadata": {
        "id": "7nm0KeiA3lxj"
      },
      "execution_count": 11,
      "outputs": []
    },
    {
      "cell_type": "code",
      "source": [
        "class CustomDataset(Dataset):\n",
        "  def __init__(self, features, labels):\n",
        "\n",
        "    self.features = features\n",
        "    self.lables = labels\n",
        "\n",
        "  def __len__(self):\n",
        "\n",
        "    return self.features.shape[0]\n",
        "\n",
        "  def __getitem__(self, index):\n",
        "\n",
        "    return self.features[index], self.lables[index]"
      ],
      "metadata": {
        "id": "pADMqrAW_Cl3"
      },
      "execution_count": 12,
      "outputs": []
    },
    {
      "cell_type": "code",
      "source": [
        "dataset = CustomDataset(X, y)"
      ],
      "metadata": {
        "id": "mbEXolf88_zV"
      },
      "execution_count": 13,
      "outputs": []
    },
    {
      "cell_type": "code",
      "source": [
        "len(dataset)"
      ],
      "metadata": {
        "colab": {
          "base_uri": "https://localhost:8080/"
        },
        "id": "yCMLR4fH9Fvo",
        "outputId": "2134c4f8-6856-496e-f915-6ee81f238df9"
      },
      "execution_count": 14,
      "outputs": [
        {
          "output_type": "execute_result",
          "data": {
            "text/plain": [
              "20"
            ]
          },
          "metadata": {},
          "execution_count": 14
        }
      ]
    },
    {
      "cell_type": "code",
      "source": [
        "dataset[2]"
      ],
      "metadata": {
        "colab": {
          "base_uri": "https://localhost:8080/"
        },
        "id": "lUpEROQr9NXs",
        "outputId": "3009753f-3374-430c-c0ae-cd2da402576f"
      },
      "execution_count": 19,
      "outputs": [
        {
          "output_type": "execute_result",
          "data": {
            "text/plain": [
              "(tensor([1.1577, 0.4750]), tensor(0))"
            ]
          },
          "metadata": {},
          "execution_count": 19
        }
      ]
    },
    {
      "cell_type": "code",
      "source": [
        "dataset[3]"
      ],
      "metadata": {
        "colab": {
          "base_uri": "https://localhost:8080/"
        },
        "id": "dY8B1oQ2_lKO",
        "outputId": "c390c384-0ea3-46bb-97e1-846d0cd434d0"
      },
      "execution_count": 20,
      "outputs": [
        {
          "output_type": "execute_result",
          "data": {
            "text/plain": [
              "(tensor([1.9959, 0.7728]), tensor(1))"
            ]
          },
          "metadata": {},
          "execution_count": 20
        }
      ]
    },
    {
      "cell_type": "code",
      "source": [
        "dataloader = DataLoader(dataset, batch_size=2, shuffle=False)"
      ],
      "metadata": {
        "id": "0v4w5dki9QDu"
      },
      "execution_count": 21,
      "outputs": []
    },
    {
      "cell_type": "code",
      "source": [
        "for batch_features, batch_labels in dataloader:\n",
        "\n",
        "  print(batch_features)\n",
        "  print(batch_labels)\n",
        "  print(\"-\"*50)"
      ],
      "metadata": {
        "colab": {
          "base_uri": "https://localhost:8080/"
        },
        "id": "8w7oKRGp_2fP",
        "outputId": "7fe4d3d2-8569-4a49-c413-8047121b6531"
      },
      "execution_count": 22,
      "outputs": [
        {
          "output_type": "stream",
          "name": "stdout",
          "text": [
            "tensor([[-0.2828, -1.4088],\n",
            "        [ 0.9470,  0.5591]])\n",
            "tensor([0, 0])\n",
            "--------------------------------------------------\n",
            "tensor([[1.1577, 0.4750],\n",
            "        [1.9959, 0.7728]])\n",
            "tensor([0, 1])\n",
            "--------------------------------------------------\n",
            "tensor([[ 0.0405,  1.3973],\n",
            "        [ 1.4704, -0.8606]])\n",
            "tensor([1, 0])\n",
            "--------------------------------------------------\n",
            "tensor([[-0.7074,  0.8922],\n",
            "        [-1.4569, -0.0456]])\n",
            "tensor([1, 1])\n",
            "--------------------------------------------------\n",
            "tensor([[ 0.6220,  2.3675],\n",
            "        [-0.0154,  1.0926]])\n",
            "tensor([0, 1])\n",
            "--------------------------------------------------\n",
            "tensor([[ 1.6113, -0.6568],\n",
            "        [ 1.4545,  0.9135]])\n",
            "tensor([0, 1])\n",
            "--------------------------------------------------\n",
            "tensor([[-0.2071,  1.3306],\n",
            "        [ 1.9632, -0.7697]])\n",
            "tensor([1, 0])\n",
            "--------------------------------------------------\n",
            "tensor([[-0.9640, -0.8299],\n",
            "        [ 2.0757,  0.6601]])\n",
            "tensor([0, 1])\n",
            "--------------------------------------------------\n",
            "tensor([[-0.6550, -0.8359],\n",
            "        [-1.4257, -1.3137]])\n",
            "tensor([0, 0])\n",
            "--------------------------------------------------\n",
            "tensor([[-0.8750, -0.1135],\n",
            "        [ 1.2558, -0.3721]])\n",
            "tensor([1, 0])\n",
            "--------------------------------------------------\n"
          ]
        }
      ]
    },
    {
      "cell_type": "code",
      "source": [],
      "metadata": {
        "id": "Zj4MdNzp9riC"
      },
      "execution_count": null,
      "outputs": []
    }
  ]
}